{
 "cells": [
  {
   "cell_type": "code",
   "execution_count": 2,
   "metadata": {},
   "outputs": [
    {
     "name": "stdin",
     "output_type": "stream",
     "text": [
      "What is your name, adventurer?\n",
      " Monirul Islam\n"
     ]
    },
    {
     "name": "stdout",
     "output_type": "stream",
     "text": [
      "Greetings, Monirul Islam. Let us go on a quest!\n",
      "\n",
      "You find yourself on Text Adventurer World.\n",
      "\n",
      "Can you find your way through?\n",
      "\n"
     ]
    },
    {
     "name": "stdin",
     "output_type": "stream",
     "text": [
      "Would you like to travel through a world?\n",
      "yes/no\n",
      " yes\n"
     ]
    },
    {
     "name": "stdout",
     "output_type": "stream",
     "text": [
      "You head into the Character world.\n",
      "\n",
      "To your left, you see Nothing because of on the left there was wall.\n",
      "\n",
      "To your right, there is more Rooms.\n",
      "\n",
      "There is a  wall directly in front of you.\n",
      "\n",
      "Behind you is the Door exit.\n",
      "\n"
     ]
    },
    {
     "name": "stdin",
     "output_type": "stream",
     "text": [
      "What direction do you move?\n",
      "left/right/forward/backward/Enter the Room/ Exit from the Room\n",
      " Enter Player keyword if are a player\n",
      "\n",
      " Player\n"
     ]
    },
    {
     "name": "stdout",
     "output_type": "stream",
     "text": [
      "Welcome Monirul Islam, Now You can navigates through a world by typing commands (north, walk east, go south\n"
     ]
    },
    {
     "name": "stdin",
     "output_type": "stream",
     "text": [
      "Monirul Islam Please Enter your direction north/ walk east/go south\n",
      "\n",
      " go south\n"
     ]
    },
    {
     "name": "stdout",
     "output_type": "stream",
     "text": [
      "Monirul Islam Now you can walk towards south\n"
     ]
    }
   ],
   "source": [
    "# Monirul Islam \n",
    "yes_no = [\"yes\", \"no\"]\n",
    "directions = [\"left\", \"right\", \"Exit\", \"Player\", \"Enter the Room\",\"Exit from the Room\",\"Forward\", 'backward', \"north\", \"walk east\", \"go south\"]\n",
    " \n",
    "# Introduction\n",
    "name = input(\"What is your name, adventurer?\\n\")\n",
    "print(\"Greetings, \" + name + \". Let us go on a quest!\\n\")\n",
    "print(\"You find yourself on Text Adventurer World.\\n\")\n",
    "print(\"Can you find your way through?\\n\")\n",
    " \n",
    "# Start of The Text Adventure Game\n",
    "response = \"\"\n",
    "while response not in yes_no:\n",
    "    response = input(\"Would you like to travel through a world?\\nyes/no\\n\")\n",
    "    if response == \"yes\":\n",
    "        print(\"You head into the Character world.\\n\")\n",
    "    elif response == \"no\":\n",
    "        print(\"You are not ready for enter the character world. Goodbye, \" + name + \".\\n\")\n",
    "        quit()\n",
    "    else: \n",
    "        print(\"I didn't understand that.\\n\")\n",
    " \n",
    "# Taking input from User\n",
    "response = \"\"\n",
    "while response not in directions:\n",
    "    print(\"To your left, you see Nothing because of on the left there was wall.\\n\")\n",
    "    print(\"To your right, there is more Rooms.\\n\")\n",
    "    print(\"There is a  wall directly in front of you.\\n\")\n",
    "    print(\"Behind you is the Door exit.\\n\")\n",
    "    response = input(\"What direction do you move?\\nleft/right/forward/backward/Enter the Room/ Exit from the Room\\n Enter Player keyword if are a player\\n\\n\")\n",
    "    if response == \"left\":\n",
    "        print(\"You are the left side from the previous place, \" + name + \".\")\n",
    "        quit()\n",
    "    elif response == \"right\":\n",
    "        print(\"You are the right side from the previous place.\\n\")\n",
    "    elif response == \"forward\":\n",
    "        print(\"Please go back, remember that you are not allowed for go forward,.\\n\")\n",
    "        response = \"\" \n",
    "    elif response == \"backward\":\n",
    "        print(\"You leave form the room. Please Lock the room taking step back, \" + name + \".\")\n",
    "        quit()\n",
    "    elif response == \"Enter the Room\":\n",
    "        print(\"Welcome \"+name+\" ,Please stay here until taking next decision thank you. \")\n",
    "    elif response == \"Exit from the Room\":\n",
    "        print(\"Thank you \"+name+\" , you are now out of the room.Please Lock the room before exit the room.\")\n",
    "    elif response == \"Player\":\n",
    "        print(\"Welcome \"+name+', Now You can navigates through a world by typing commands (north, walk east, go south')\n",
    "        player_response = \"\"\n",
    "        while player_response not in directions:\n",
    "            player_response = input(name+' Please Enter your direction north/ walk east/go south\\n\\n')\n",
    "            if player_response == \"north\":\n",
    "                print(name+\" Now you can move towards North\")\n",
    "            elif player_response == \"walk east\":\n",
    "                print(name+\" Now you can walk east\")\n",
    "            elif player_response == \"go south\":\n",
    "                print(name+\" Now you can walk towards south\")\n",
    "            elif player_response == \"Quit\":\n",
    "                quit()\n",
    "    else:\n",
    "        print(\"I didn't understand that.\\n\")\n"
   ]
  },
  {
   "cell_type": "code",
   "execution_count": null,
   "metadata": {},
   "outputs": [],
   "source": []
  }
 ],
 "metadata": {
  "kernelspec": {
   "display_name": "Python 3",
   "language": "python",
   "name": "python3"
  },
  "language_info": {
   "codemirror_mode": {
    "name": "ipython",
    "version": 3
   },
   "file_extension": ".py",
   "mimetype": "text/x-python",
   "name": "python",
   "nbconvert_exporter": "python",
   "pygments_lexer": "ipython3",
   "version": "3.7.7"
  }
 },
 "nbformat": 4,
 "nbformat_minor": 4
}
